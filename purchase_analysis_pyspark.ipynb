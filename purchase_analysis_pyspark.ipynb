{
 "cells": [
  {
   "cell_type": "code",
   "execution_count": 1,
   "id": "7da7b96b-4709-493e-a261-95c8138e17eb",
   "metadata": {},
   "outputs": [],
   "source": [
    "from pyspark.sql import SparkSession\n",
    "import pyspark.sql.functions as F\n",
    "import matplotlib.pyplot as plt\n",
    "import pandas as pd"
   ]
  },
  {
   "cell_type": "code",
   "execution_count": 2,
   "id": "8385fda1-1280-49f1-9352-e8cdbc43aa01",
   "metadata": {},
   "outputs": [],
   "source": [
    "spark = SparkSession \\\n",
    "    .builder \\\n",
    "    .master(\"local[*]\") \\\n",
    "    .appName('data_analysis') \\\n",
    "    .config(\"spark.executor.memory\", \"8g\") \\\n",
    "    .config(\"spark.driver.memory\", \"8g\") \\\n",
    "    .getOrCreate()"
   ]
  },
  {
   "cell_type": "code",
   "execution_count": 3,
   "id": "f9e8287b-b240-4108-add8-caa033eb8d13",
   "metadata": {},
   "outputs": [],
   "source": [
    "df = spark.read.csv('purchase.csv', header=True, inferSchema=True)"
   ]
  },
  {
   "cell_type": "code",
   "execution_count": 4,
   "id": "572957ba-6b22-45b2-b513-c63106d4180b",
   "metadata": {},
   "outputs": [
    {
     "data": {
      "text/plain": [
       "1000000"
      ]
     },
     "execution_count": 4,
     "metadata": {},
     "output_type": "execute_result"
    }
   ],
   "source": [
    "df.count()"
   ]
  },
  {
   "cell_type": "code",
   "execution_count": 5,
   "id": "c9ceaedd-5ba7-4f27-bebd-537d86277059",
   "metadata": {},
   "outputs": [
    {
     "name": "stdout",
     "output_type": "stream",
     "text": [
      "root\n",
      " |-- Product ID: string (nullable = true)\n",
      " |-- Product Name: string (nullable = true)\n",
      " |-- Category: string (nullable = true)\n",
      " |-- Price: double (nullable = true)\n",
      " |-- Discount: integer (nullable = true)\n",
      " |-- Tax Rate: integer (nullable = true)\n",
      " |-- Stock Level: integer (nullable = true)\n",
      " |-- Supplier ID: string (nullable = true)\n",
      " |-- Customer Age Group: string (nullable = true)\n",
      " |-- Customer Location: string (nullable = true)\n",
      " |-- Shipping Cost: double (nullable = true)\n",
      " |-- Shipping Method: string (nullable = true)\n",
      " |-- Return Rate: double (nullable = true)\n",
      " |-- Popularity Index: integer (nullable = true)\n",
      "\n"
     ]
    }
   ],
   "source": [
    "df.printSchema()"
   ]
  },
  {
   "cell_type": "code",
   "execution_count": 6,
   "id": "17cf7f6b-2753-427e-9dd3-65b2bede322b",
   "metadata": {},
   "outputs": [
    {
     "name": "stdout",
     "output_type": "stream",
     "text": [
      "root\n",
      " |-- product_id: string (nullable = true)\n",
      " |-- product_name: string (nullable = true)\n",
      " |-- category: string (nullable = true)\n",
      " |-- price: double (nullable = true)\n",
      " |-- discount: integer (nullable = true)\n",
      " |-- tax_rate: integer (nullable = true)\n",
      " |-- stock_level: integer (nullable = true)\n",
      " |-- supplier_id: string (nullable = true)\n",
      " |-- customer_age_group: string (nullable = true)\n",
      " |-- customer_location: string (nullable = true)\n",
      " |-- shipping_cost: double (nullable = true)\n",
      " |-- shipping_method: string (nullable = true)\n",
      " |-- return_rate: double (nullable = true)\n",
      " |-- popularity_index: integer (nullable = true)\n",
      "\n"
     ]
    }
   ],
   "source": [
    "new_columns = [col.replace(\" \",\"_\").lower() for col in df.columns]\n",
    "df = df.toDF(*new_columns)\n",
    "df.printSchema()"
   ]
  },
  {
   "cell_type": "code",
   "execution_count": 7,
   "id": "d9cd1109-648b-47e6-b104-53b1014893d8",
   "metadata": {},
   "outputs": [],
   "source": [
    "df_nulls = df.select([\n",
    "    F.count(F.when(F.col(c).contains('null') | \\\n",
    "                   F.col(c).contains('Null') | \\\n",
    "                   F.col(c).contains('none') | \\\n",
    "                   F.col(c).contains('None') | \\\n",
    "                   F.col(c).contains('null') | \\\n",
    "                   (F.col(c) == \"\") | \\\n",
    "                   F.col(c).isNull() | \\\n",
    "                   F.isnan(c), c)).alias(c)\n",
    "    for c in df.columns])"
   ]
  },
  {
   "cell_type": "code",
   "execution_count": 8,
   "id": "3892db16-7084-41ab-902d-ac7372f314f2",
   "metadata": {},
   "outputs": [
    {
     "name": "stdout",
     "output_type": "stream",
     "text": [
      "+------------+\n",
      "|sum_of_nulls|\n",
      "+------------+\n",
      "|           0|\n",
      "+------------+\n",
      "\n"
     ]
    }
   ],
   "source": [
    "expression = ''\n",
    "num_cols = len(new_columns)\n",
    "for idx in range(0, num_cols):\n",
    "    expression += new_columns[idx]\n",
    "    if idx != (num_cols - 1):\n",
    "        expression += \"+\"\n",
    "df_nulls = df_nulls.withColumn('sum_of_nulls', F.expr(expression))\n",
    "df_nulls.select('sum_of_nulls').show()"
   ]
  },
  {
   "cell_type": "code",
   "execution_count": 9,
   "id": "1296152d-d968-4851-acc6-fb81fe8a000b",
   "metadata": {
    "scrolled": true
   },
   "outputs": [
    {
     "name": "stdout",
     "output_type": "stream",
     "text": [
      "+---------------+--------------------------+\n",
      "|   product_name|abs_diff_popularity_return|\n",
      "+---------------+--------------------------+\n",
      "|      Textbooks|                     98.99|\n",
      "|        Fiction|                     98.99|\n",
      "|          Shirt|                     98.99|\n",
      "|        Blender|                     98.99|\n",
      "|   Hiking Shoes|                     98.99|\n",
      "|         Shorts|                     98.99|\n",
      "|Air Conditioner|                     98.99|\n",
      "|      Cookbooks|                     98.98|\n",
      "| Graphic Novels|                     98.98|\n",
      "|        Sandals|                     98.98|\n",
      "+---------------+--------------------------+\n",
      "only showing top 10 rows\n",
      "\n"
     ]
    }
   ],
   "source": [
    "df.select(\n",
    "    \"product_name\",\n",
    "    (F.abs(F.col('popularity_index') - F.col('return_rate'))).alias('abs_diff_popularity_return')\n",
    ").orderBy(F.col('abs_diff_popularity_return').desc()).show(10)\n"
   ]
  },
  {
   "cell_type": "code",
   "execution_count": 10,
   "id": "59147ae7-0b30-4741-9a40-e50a0facee91",
   "metadata": {
    "scrolled": true
   },
   "outputs": [
    {
     "name": "stdout",
     "output_type": "stream",
     "text": [
      "+-----------+---------+\n",
      "|supplier_id|total_num|\n",
      "+-----------+---------+\n",
      "|       S648|      441|\n",
      "+-----------+---------+\n",
      "\n"
     ]
    }
   ],
   "source": [
    "df_standard = df.filter(F.col('shipping_method') == 'Standard')\n",
    "counts = df_standard.groupby('supplier_id').agg(F.count('*').alias('total_num'))\n",
    "counts.orderBy(F.col('total_num').desc()).limit(1).show()                            "
   ]
  },
  {
   "cell_type": "code",
   "execution_count": 11,
   "id": "29af5dfc-9b64-490a-80db-5bfb37d1b509",
   "metadata": {},
   "outputs": [
    {
     "name": "stdout",
     "output_type": "stream",
     "text": [
      "+---------------+------------------+--------+--------+-----------+\n",
      "|       category|          ave_cost|min_cost|max_cost|median_cost|\n",
      "+---------------+------------------+--------+--------+-----------+\n",
      "|        Apparel|25.015327350028343|     0.0|    50.0|      25.06|\n",
      "|    Electronics| 25.02260244417696|     0.0|    50.0|      25.05|\n",
      "|       Footwear|24.926221381485224|     0.0|    50.0|      24.86|\n",
      "|          Books|24.959534547773085|     0.0|    50.0|      24.88|\n",
      "|Home Appliances|25.002656528531656|     0.0|    50.0|       25.0|\n",
      "+---------------+------------------+--------+--------+-----------+\n",
      "\n"
     ]
    }
   ],
   "source": [
    "price_per_category = df.groupby('category').agg(\n",
    "    F.avg(F.col('shipping_cost')).alias('ave_cost'),\n",
    "    F.min(F.col('shipping_cost')).alias('min_cost'),\n",
    "    F.max(F.col('shipping_cost')).alias('max_cost'),\n",
    "    F.median(F.col('shipping_cost')).alias('median_cost')\n",
    ")\n",
    "price_per_category.show(10)"
   ]
  },
  {
   "cell_type": "code",
   "execution_count": 12,
   "id": "ecc7947c-23fd-47a7-8058-dd7ca279ab2b",
   "metadata": {},
   "outputs": [
    {
     "name": "stdout",
     "output_type": "stream",
     "text": [
      "+---------------+------------+\n",
      "|       category|most_popular|\n",
      "+---------------+------------+\n",
      "|Home Appliances|       37764|\n",
      "|          Books|       37724|\n",
      "|       Footwear|       37614|\n",
      "|    Electronics|       37364|\n",
      "|        Apparel|       37342|\n",
      "+---------------+------------+\n",
      "\n"
     ]
    }
   ],
   "source": [
    "popular = df.filter((F.col('popularity_index') > 50) & (F.col('popularity_index') < 70))\n",
    "popular_counts = popular.groupby('category').agg(F.count('*').alias('most_popular'))\n",
    "popular_counts.orderBy(F.col('most_popular').desc()).limit(5).show()"
   ]
  },
  {
   "cell_type": "code",
   "execution_count": 13,
   "id": "25f8c580-f070-4dd8-8ed9-b9f757107455",
   "metadata": {},
   "outputs": [
    {
     "name": "stdout",
     "output_type": "stream",
     "text": [
      "+-----------+-----------------+\n",
      "|supplier_id|    total_net_sum|\n",
      "+-----------+-----------------+\n",
      "|       S960|986093.0523300001|\n",
      "|       S648|    974139.456565|\n",
      "|       S912|    964389.585645|\n",
      "|       S852|     961270.20233|\n",
      "|       S437|953615.2408799999|\n",
      "+-----------+-----------------+\n",
      "\n"
     ]
    }
   ],
   "source": [
    "df = df.withColumn(\n",
    "    'total_net',\n",
    "    (((1 - (F.col('discount')/100)) * F.col('price')) * (1 - (F.col('tax_rate')/100)))\n",
    ")\n",
    "totals = df.groupby('supplier_id').agg(F.sum('total_net').alias('total_net_sum'))\n",
    "totals.orderBy(F.col('total_net_sum').desc()).limit(5).show()"
   ]
  },
  {
   "cell_type": "code",
   "execution_count": 14,
   "id": "9e17bd2b-b1cc-42ce-9772-4b529db06786",
   "metadata": {},
   "outputs": [
    {
     "name": "stdout",
     "output_type": "stream",
     "text": [
      "+------------------+\n",
      "|customer_age_group|\n",
      "+------------------+\n",
      "|             45-54|\n",
      "|             35-44|\n",
      "|             25-34|\n",
      "|             18-24|\n",
      "|               55+|\n",
      "+------------------+\n",
      "\n"
     ]
    }
   ],
   "source": [
    "df.select('customer_age_group').distinct().show()"
   ]
  },
  {
   "cell_type": "code",
   "execution_count": 15,
   "id": "38d5ee78-e359-4ac3-81ca-5ca41b5303c6",
   "metadata": {},
   "outputs": [
    {
     "name": "stdout",
     "output_type": "stream",
     "text": [
      "+--------------------+\n",
      "|   customer_location|\n",
      "+--------------------+\n",
      "|           Singapore|\n",
      "|     Toronto, Canada|\n",
      "|       Mumbai, India|\n",
      "|        Chicago, USA|\n",
      "|   Sydney, Australia|\n",
      "|          Dubai, UAE|\n",
      "|        Phoenix, USA|\n",
      "|          London, UK|\n",
      "|     Berlin, Germany|\n",
      "|    Los Angeles, USA|\n",
      "|Cape Town, South ...|\n",
      "|       New York, USA|\n",
      "|        Tokyo, Japan|\n",
      "|       Paris, France|\n",
      "|        Houston, USA|\n",
      "+--------------------+\n",
      "\n"
     ]
    }
   ],
   "source": [
    "df.select('customer_location').distinct().show()"
   ]
  },
  {
   "cell_type": "code",
   "execution_count": 16,
   "id": "f7258171-4196-4bff-be8b-4e04dda68fd3",
   "metadata": {},
   "outputs": [],
   "source": [
    "df = df.withColumn('city', F.split(F.col('customer_location'), \",\").getItem(0))\n",
    "df = df.withColumn('country', F.split(F.col('customer_location'), \",\").getItem(1))"
   ]
  },
  {
   "cell_type": "code",
   "execution_count": 17,
   "id": "f3bad840-e83b-478d-b21a-2a1ca035c7a2",
   "metadata": {},
   "outputs": [
    {
     "name": "stdout",
     "output_type": "stream",
     "text": [
      "+-------+-----------------+\n",
      "|   city|       total_cost|\n",
      "+-------+-----------------+\n",
      "|Chicago|912.4320126553755|\n",
      "|Phoenix| 911.771666146382|\n",
      "|  Tokyo|909.2769984100574|\n",
      "|Houston|907.2379199784973|\n",
      "| Mumbai|906.5524393350369|\n",
      "+-------+-----------------+\n",
      "\n"
     ]
    }
   ],
   "source": [
    "df_less_35 = df.filter((F.col('customer_age_group') == '18-24') | (F.col('customer_age_group') == '25-34'))\n",
    "df_less_35 = df_less_35.withColumn('total_cost', (((1 - (F.col('discount')/100)) * F.col('price')) + F.col('shipping_cost')))\n",
    "counts = df_less_35.groupby('city').agg(F.avg(F.col('total_cost')).alias('total_cost'))\n",
    "counts.orderBy(F.col('total_cost').desc()).limit(5).show()"
   ]
  },
  {
   "cell_type": "code",
   "execution_count": 18,
   "id": "84ff8748-f57d-4b83-9bd5-d67e501530b0",
   "metadata": {},
   "outputs": [
    {
     "name": "stdout",
     "output_type": "stream",
     "text": [
      "+-------------+-----------------------+\n",
      "|      country|stock_level_per_country|\n",
      "+-------------+-----------------------+\n",
      "|          USA|               83337091|\n",
      "|          UAE|               16901458|\n",
      "| South Africa|               16868967|\n",
      "|         NULL|               16737180|\n",
      "|        India|               16703968|\n",
      "|           UK|               16656183|\n",
      "|        Japan|               16649969|\n",
      "|       Canada|               16567516|\n",
      "|    Australia|               16564571|\n",
      "|       France|               16543152|\n",
      "|      Germany|               16498481|\n",
      "+-------------+-----------------------+\n",
      "\n"
     ]
    }
   ],
   "source": [
    "country_stock_level = df.groupby('country').agg(F.sum('stock_level').alias('stock_level_per_country'))\n",
    "country_stock_level.orderBy(F.col('stock_level_per_country').desc()).show()"
   ]
  },
  {
   "cell_type": "code",
   "execution_count": 19,
   "id": "9dc8b2dd-33fe-4439-a945-586a4390f0b8",
   "metadata": {},
   "outputs": [
    {
     "name": "stdout",
     "output_type": "stream",
     "text": [
      "+-----------+----------------------+\n",
      "|       city|shipping_cost_per_city|\n",
      "+-----------+----------------------+\n",
      "|     Mumbai|     25.05759594691535|\n",
      "|      Dubai|     25.03926263512409|\n",
      "|     Sydney|    25.036199987939813|\n",
      "|   New York|    25.028146637979006|\n",
      "|  Singapore|    25.012167300380234|\n",
      "|  Cape Town|    25.011344988310285|\n",
      "|     London|    24.983443603387546|\n",
      "|      Paris|    24.974364728670462|\n",
      "|      Tokyo|    24.969093788465596|\n",
      "|     Berlin|     24.96588914444815|\n",
      "|    Chicago|    24.965885080162714|\n",
      "|    Phoenix|     24.96542775208696|\n",
      "|    Houston|    24.958903770433125|\n",
      "|    Toronto|     24.91684280112381|\n",
      "|Los Angeles|    24.892773692994716|\n",
      "+-----------+----------------------+\n",
      "\n"
     ]
    }
   ],
   "source": [
    "city_shipping_cost = df.groupby('city').agg(F.avg('shipping_cost').alias('shipping_cost_per_city'))\n",
    "city_shipping_cost.orderBy(F.col('shipping_cost_per_city').desc()).show()"
   ]
  },
  {
   "cell_type": "code",
   "execution_count": 20,
   "id": "c98dd94e-0fb7-4793-8194-4cf57c2df9a7",
   "metadata": {},
   "outputs": [
    {
     "data": {
      "text/plain": [
       "0.801781"
      ]
     },
     "execution_count": 20,
     "metadata": {},
     "output_type": "execute_result"
    }
   ],
   "source": [
    "popularity_indexdf_popularity_less_80 = df.filter(F.col('popularity_index') <= 80)\n",
    "popularity_indexdf_popularity_less_80.count() / df.count() "
   ]
  },
  {
   "cell_type": "code",
   "execution_count": 21,
   "id": "6075a799-112e-4d48-92c6-87eaf9e73a0a",
   "metadata": {},
   "outputs": [
    {
     "name": "stdout",
     "output_type": "stream",
     "text": [
      "+---------------+---------------------+\n",
      "|       category|avg_discount_category|\n",
      "+---------------+---------------------+\n",
      "|Home Appliances|   12.535051174715084|\n",
      "|          Books|    12.52608953380058|\n",
      "|       Footwear|   12.517129877204644|\n",
      "|        Apparel|   12.504781122472028|\n",
      "|    Electronics|    12.50168555318607|\n",
      "+---------------+---------------------+\n",
      "\n"
     ]
    }
   ],
   "source": [
    "discount_group = df.groupby('category').agg(\n",
    "    F.avg(F.col('discount')).alias('avg_discount_category'))\n",
    "discount_group.orderBy(F.col('avg_discount_category').desc()).show()"
   ]
  },
  {
   "cell_type": "code",
   "execution_count": 22,
   "id": "b9a033ac-256a-4b10-b8ce-de8d8e50d4db",
   "metadata": {
    "scrolled": true
   },
   "outputs": [
    {
     "name": "stdout",
     "output_type": "stream",
     "text": [
      "+---------------+------------------+\n",
      "|   product_name|        popularity|\n",
      "+---------------+------------------+\n",
      "|        Sandals| 50.86104624007473|\n",
      "|     Smartwatch|50.772359550561795|\n",
      "|        Monitor| 50.74241030358785|\n",
      "|     Dishwasher|50.729935794542534|\n",
      "|Washing Machine|50.655539627278316|\n",
      "+---------------+------------------+\n",
      "only showing top 5 rows\n",
      "\n"
     ]
    }
   ],
   "source": [
    "df_older_55 = df.filter((F.col('customer_age_group') == '55+'))\n",
    "higher_popularity = df_older_55.groupby('product_name').agg(\n",
    "    F.avg(F.col('popularity_index')).alias('popularity')\n",
    ")\n",
    "higher_popularity.orderBy(F.col('popularity').desc()).show(5)"
   ]
  },
  {
   "cell_type": "code",
   "execution_count": 26,
   "id": "5f87d547-7f1f-4193-b606-78fc563a7014",
   "metadata": {},
   "outputs": [
    {
     "name": "stdout",
     "output_type": "stream",
     "text": [
      "+---------------+---------+---------+------------------+-----------------+------------+\n",
      "|       category|min_price|max_price|         avg_price|        std_price|median_price|\n",
      "+---------------+---------+---------+------------------+-----------------+------------+\n",
      "|Home Appliances|    10.01|  1999.98|1004.8413886273955|   574.9555585721|     1004.52|\n",
      "|       Footwear|     10.0|  1999.99|1003.2791850626477|574.0032217810402|     1002.08|\n",
      "|    Electronics|    10.01|  1999.98|1006.5645442513896|  574.27244804008|     1008.73|\n",
      "|          Books|    10.02|  1999.99|1006.5614861196201|574.2156068994809|     1007.21|\n",
      "|        Apparel|     10.0|   2000.0|1004.3474277310136|574.8106953691446|     1003.86|\n",
      "+---------------+---------+---------+------------------+-----------------+------------+\n",
      "\n"
     ]
    }
   ],
   "source": [
    "change_in_price = df.groupby('category').agg(\n",
    "    F.min(F.col('price')).alias('min_price'),\n",
    "    F.max(F.col('price')).alias('max_price'),\n",
    "    F.avg(F.col('price')).alias('avg_price'),\n",
    "    F.std(F.col('price')).alias('std_price'),\n",
    "    F.median(F.col('price')).alias('median_price'),    \n",
    ")\n",
    "change_in_price.orderBy(F.col('category').desc()).show()"
   ]
  }
 ],
 "metadata": {
  "kernelspec": {
   "display_name": "Python 3 (ipykernel)",
   "language": "python",
   "name": "python3"
  },
  "language_info": {
   "codemirror_mode": {
    "name": "ipython",
    "version": 3
   },
   "file_extension": ".py",
   "mimetype": "text/x-python",
   "name": "python",
   "nbconvert_exporter": "python",
   "pygments_lexer": "ipython3",
   "version": "3.11.5"
  }
 },
 "nbformat": 4,
 "nbformat_minor": 5
}
